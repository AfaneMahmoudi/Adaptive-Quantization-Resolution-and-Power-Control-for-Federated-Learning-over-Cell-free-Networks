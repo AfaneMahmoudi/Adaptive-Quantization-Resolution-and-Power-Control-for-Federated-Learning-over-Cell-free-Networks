{
 "cells": [
  {
   "cell_type": "code",
   "execution_count": 1,
   "id": "e165f1e2",
   "metadata": {},
   "outputs": [
    {
     "name": "stderr",
     "output_type": "stream",
     "text": [
      "C:\\Users\\afmb\\Anaconda3\\lib\\site-packages\\numpy\\_distributor_init.py:30: UserWarning: loaded more than 1 DLL from .libs:\n",
      "C:\\Users\\afmb\\Anaconda3\\lib\\site-packages\\numpy\\.libs\\libopenblas.EL2C6PLE4ZYW3ECEVIV3OXXGRN2NRFM2.gfortran-win_amd64.dll\n",
      "C:\\Users\\afmb\\Anaconda3\\lib\\site-packages\\numpy\\.libs\\libopenblas.PYQHXLVVQ7VESDPUVUADXEVJOBGHJPAY.gfortran-win_amd64.dll\n",
      "  warnings.warn(\"loaded more than 1 DLL from .libs:\"\n"
     ]
    }
   ],
   "source": [
    "import numpy as np\n",
    "from scipy.optimize import minimize\n",
    "\n"
   ]
  },
  {
   "cell_type": "markdown",
   "id": "7ae16118",
   "metadata": {},
   "source": [
    "# The following code is just min max latency"
   ]
  },
  {
   "cell_type": "code",
   "execution_count": 31,
   "id": "db5cfc4f",
   "metadata": {
    "scrolled": true
   },
   "outputs": [
    {
     "name": "stderr",
     "output_type": "stream",
     "text": [
      "C:\\Users\\afmb\\AppData\\Local\\Temp\\ipykernel_9324\\693247915.py:3: DeprecationWarning: Calling np.sum(generator) is deprecated, and in the future will give a different result. Use np.sum(np.fromiter(generator)) or the python sum builtin instead.\n",
      "  fi_values = [n_bits / np.log2(1 + ai * xi / (bi * xi + np.sum(cij * pj for j, pj in enumerate(p)) + di)) for ai, bi, cij, di, xi in zip(a, b, c, d, x)]\n",
      "C:\\Users\\afmb\\AppData\\Local\\Temp\\ipykernel_9324\\693247915.py:3: RuntimeWarning: invalid value encountered in log2\n",
      "  fi_values = [n_bits / np.log2(1 + ai * xi / (bi * xi + np.sum(cij * pj for j, pj in enumerate(p)) + di)) for ai, bi, cij, di, xi in zip(a, b, c, d, x)]\n"
     ]
    },
    {
     "ename": "ValueError",
     "evalue": "array must not contain infs or NaNs",
     "output_type": "error",
     "traceback": [
      "\u001b[1;31m---------------------------------------------------------------------------\u001b[0m",
      "\u001b[1;31mValueError\u001b[0m                                Traceback (most recent call last)",
      "Input \u001b[1;32mIn [31]\u001b[0m, in \u001b[0;36m<cell line: 36>\u001b[1;34m()\u001b[0m\n\u001b[0;32m     27\u001b[0m problem \u001b[38;5;241m=\u001b[39m {\n\u001b[0;32m     28\u001b[0m     \u001b[38;5;124m'\u001b[39m\u001b[38;5;124mfun\u001b[39m\u001b[38;5;124m'\u001b[39m: objective_function,\n\u001b[0;32m     29\u001b[0m     \u001b[38;5;124m'\u001b[39m\u001b[38;5;124mx0\u001b[39m\u001b[38;5;124m'\u001b[39m: x0,\n\u001b[1;32m   (...)\u001b[0m\n\u001b[0;32m     32\u001b[0m     \u001b[38;5;124m'\u001b[39m\u001b[38;5;124mbounds\u001b[39m\u001b[38;5;124m'\u001b[39m: bounds\n\u001b[0;32m     33\u001b[0m }\n\u001b[0;32m     35\u001b[0m \u001b[38;5;66;03m# Solve the optimization problem\u001b[39;00m\n\u001b[1;32m---> 36\u001b[0m result \u001b[38;5;241m=\u001b[39m \u001b[43mminimize\u001b[49m\u001b[43m(\u001b[49m\u001b[38;5;241;43m*\u001b[39;49m\u001b[38;5;241;43m*\u001b[39;49m\u001b[43mproblem\u001b[49m\u001b[43m,\u001b[49m\u001b[43m \u001b[49m\u001b[43mmethod\u001b[49m\u001b[38;5;241;43m=\u001b[39;49m\u001b[38;5;124;43m'\u001b[39;49m\u001b[38;5;124;43mtrust-constr\u001b[39;49m\u001b[38;5;124;43m'\u001b[39;49m\u001b[43m)\u001b[49m\n\u001b[0;32m     38\u001b[0m \u001b[38;5;66;03m# Extract the optimal solution\u001b[39;00m\n\u001b[0;32m     39\u001b[0m optimal_solution \u001b[38;5;241m=\u001b[39m result\u001b[38;5;241m.\u001b[39mx\n",
      "File \u001b[1;32m~\\Anaconda3\\lib\\site-packages\\scipy\\optimize\\_minimize.py:634\u001b[0m, in \u001b[0;36mminimize\u001b[1;34m(fun, x0, args, method, jac, hess, hessp, bounds, constraints, tol, callback, options)\u001b[0m\n\u001b[0;32m    631\u001b[0m     \u001b[38;5;28;01mreturn\u001b[39;00m _minimize_slsqp(fun, x0, args, jac, bounds,\n\u001b[0;32m    632\u001b[0m                            constraints, callback\u001b[38;5;241m=\u001b[39mcallback, \u001b[38;5;241m*\u001b[39m\u001b[38;5;241m*\u001b[39moptions)\n\u001b[0;32m    633\u001b[0m \u001b[38;5;28;01melif\u001b[39;00m meth \u001b[38;5;241m==\u001b[39m \u001b[38;5;124m'\u001b[39m\u001b[38;5;124mtrust-constr\u001b[39m\u001b[38;5;124m'\u001b[39m:\n\u001b[1;32m--> 634\u001b[0m     \u001b[38;5;28;01mreturn\u001b[39;00m \u001b[43m_minimize_trustregion_constr\u001b[49m\u001b[43m(\u001b[49m\u001b[43mfun\u001b[49m\u001b[43m,\u001b[49m\u001b[43m \u001b[49m\u001b[43mx0\u001b[49m\u001b[43m,\u001b[49m\u001b[43m \u001b[49m\u001b[43margs\u001b[49m\u001b[43m,\u001b[49m\u001b[43m \u001b[49m\u001b[43mjac\u001b[49m\u001b[43m,\u001b[49m\u001b[43m \u001b[49m\u001b[43mhess\u001b[49m\u001b[43m,\u001b[49m\u001b[43m \u001b[49m\u001b[43mhessp\u001b[49m\u001b[43m,\u001b[49m\n\u001b[0;32m    635\u001b[0m \u001b[43m                                        \u001b[49m\u001b[43mbounds\u001b[49m\u001b[43m,\u001b[49m\u001b[43m \u001b[49m\u001b[43mconstraints\u001b[49m\u001b[43m,\u001b[49m\n\u001b[0;32m    636\u001b[0m \u001b[43m                                        \u001b[49m\u001b[43mcallback\u001b[49m\u001b[38;5;241;43m=\u001b[39;49m\u001b[43mcallback\u001b[49m\u001b[43m,\u001b[49m\u001b[43m \u001b[49m\u001b[38;5;241;43m*\u001b[39;49m\u001b[38;5;241;43m*\u001b[39;49m\u001b[43moptions\u001b[49m\u001b[43m)\u001b[49m\n\u001b[0;32m    637\u001b[0m \u001b[38;5;28;01melif\u001b[39;00m meth \u001b[38;5;241m==\u001b[39m \u001b[38;5;124m'\u001b[39m\u001b[38;5;124mdogleg\u001b[39m\u001b[38;5;124m'\u001b[39m:\n\u001b[0;32m    638\u001b[0m     \u001b[38;5;28;01mreturn\u001b[39;00m _minimize_dogleg(fun, x0, args, jac, hess,\n\u001b[0;32m    639\u001b[0m                             callback\u001b[38;5;241m=\u001b[39mcallback, \u001b[38;5;241m*\u001b[39m\u001b[38;5;241m*\u001b[39moptions)\n",
      "File \u001b[1;32m~\\Anaconda3\\lib\\site-packages\\scipy\\optimize\\_trustregion_constr\\minimize_trustregion_constr.py:509\u001b[0m, in \u001b[0;36m_minimize_trustregion_constr\u001b[1;34m(fun, x0, args, grad, hess, hessp, bounds, constraints, xtol, gtol, barrier_tol, sparse_jacobian, callback, maxiter, verbose, finite_diff_rel_step, initial_constr_penalty, initial_tr_radius, initial_barrier_parameter, initial_barrier_tolerance, factorization_method, disp)\u001b[0m\n\u001b[0;32m    500\u001b[0m     _, result \u001b[38;5;241m=\u001b[39m equality_constrained_sqp(\n\u001b[0;32m    501\u001b[0m         fun_and_constr, grad_and_jac, lagrangian_hess,\n\u001b[0;32m    502\u001b[0m         x0, objective\u001b[38;5;241m.\u001b[39mf, objective\u001b[38;5;241m.\u001b[39mg,\n\u001b[1;32m   (...)\u001b[0m\n\u001b[0;32m    505\u001b[0m         initial_constr_penalty, initial_tr_radius,\n\u001b[0;32m    506\u001b[0m         factorization_method)\n\u001b[0;32m    508\u001b[0m \u001b[38;5;28;01melif\u001b[39;00m method \u001b[38;5;241m==\u001b[39m \u001b[38;5;124m'\u001b[39m\u001b[38;5;124mtr_interior_point\u001b[39m\u001b[38;5;124m'\u001b[39m:\n\u001b[1;32m--> 509\u001b[0m     _, result \u001b[38;5;241m=\u001b[39m \u001b[43mtr_interior_point\u001b[49m\u001b[43m(\u001b[49m\n\u001b[0;32m    510\u001b[0m \u001b[43m        \u001b[49m\u001b[43mobjective\u001b[49m\u001b[38;5;241;43m.\u001b[39;49m\u001b[43mfun\u001b[49m\u001b[43m,\u001b[49m\u001b[43m \u001b[49m\u001b[43mobjective\u001b[49m\u001b[38;5;241;43m.\u001b[39;49m\u001b[43mgrad\u001b[49m\u001b[43m,\u001b[49m\u001b[43m \u001b[49m\u001b[43mlagrangian_hess\u001b[49m\u001b[43m,\u001b[49m\n\u001b[0;32m    511\u001b[0m \u001b[43m        \u001b[49m\u001b[43mn_vars\u001b[49m\u001b[43m,\u001b[49m\u001b[43m \u001b[49m\u001b[43mcanonical\u001b[49m\u001b[38;5;241;43m.\u001b[39;49m\u001b[43mn_ineq\u001b[49m\u001b[43m,\u001b[49m\u001b[43m \u001b[49m\u001b[43mcanonical\u001b[49m\u001b[38;5;241;43m.\u001b[39;49m\u001b[43mn_eq\u001b[49m\u001b[43m,\u001b[49m\n\u001b[0;32m    512\u001b[0m \u001b[43m        \u001b[49m\u001b[43mcanonical\u001b[49m\u001b[38;5;241;43m.\u001b[39;49m\u001b[43mfun\u001b[49m\u001b[43m,\u001b[49m\u001b[43m \u001b[49m\u001b[43mcanonical\u001b[49m\u001b[38;5;241;43m.\u001b[39;49m\u001b[43mjac\u001b[49m\u001b[43m,\u001b[49m\n\u001b[0;32m    513\u001b[0m \u001b[43m        \u001b[49m\u001b[43mx0\u001b[49m\u001b[43m,\u001b[49m\u001b[43m \u001b[49m\u001b[43mobjective\u001b[49m\u001b[38;5;241;43m.\u001b[39;49m\u001b[43mf\u001b[49m\u001b[43m,\u001b[49m\u001b[43m \u001b[49m\u001b[43mobjective\u001b[49m\u001b[38;5;241;43m.\u001b[39;49m\u001b[43mg\u001b[49m\u001b[43m,\u001b[49m\n\u001b[0;32m    514\u001b[0m \u001b[43m        \u001b[49m\u001b[43mc_ineq0\u001b[49m\u001b[43m,\u001b[49m\u001b[43m \u001b[49m\u001b[43mJ_ineq0\u001b[49m\u001b[43m,\u001b[49m\u001b[43m \u001b[49m\u001b[43mc_eq0\u001b[49m\u001b[43m,\u001b[49m\u001b[43m \u001b[49m\u001b[43mJ_eq0\u001b[49m\u001b[43m,\u001b[49m\n\u001b[0;32m    515\u001b[0m \u001b[43m        \u001b[49m\u001b[43mstop_criteria\u001b[49m\u001b[43m,\u001b[49m\n\u001b[0;32m    516\u001b[0m \u001b[43m        \u001b[49m\u001b[43mcanonical\u001b[49m\u001b[38;5;241;43m.\u001b[39;49m\u001b[43mkeep_feasible\u001b[49m\u001b[43m,\u001b[49m\n\u001b[0;32m    517\u001b[0m \u001b[43m        \u001b[49m\u001b[43mxtol\u001b[49m\u001b[43m,\u001b[49m\u001b[43m \u001b[49m\u001b[43mstate\u001b[49m\u001b[43m,\u001b[49m\u001b[43m \u001b[49m\u001b[43minitial_barrier_parameter\u001b[49m\u001b[43m,\u001b[49m\n\u001b[0;32m    518\u001b[0m \u001b[43m        \u001b[49m\u001b[43minitial_barrier_tolerance\u001b[49m\u001b[43m,\u001b[49m\n\u001b[0;32m    519\u001b[0m \u001b[43m        \u001b[49m\u001b[43minitial_constr_penalty\u001b[49m\u001b[43m,\u001b[49m\u001b[43m \u001b[49m\u001b[43minitial_tr_radius\u001b[49m\u001b[43m,\u001b[49m\n\u001b[0;32m    520\u001b[0m \u001b[43m        \u001b[49m\u001b[43mfactorization_method\u001b[49m\u001b[43m)\u001b[49m\n\u001b[0;32m    522\u001b[0m \u001b[38;5;66;03m# Status 3 occurs when the callback function requests termination,\u001b[39;00m\n\u001b[0;32m    523\u001b[0m \u001b[38;5;66;03m# this is assumed to not be a success.\u001b[39;00m\n\u001b[0;32m    524\u001b[0m result\u001b[38;5;241m.\u001b[39msuccess \u001b[38;5;241m=\u001b[39m \u001b[38;5;28;01mTrue\u001b[39;00m \u001b[38;5;28;01mif\u001b[39;00m result\u001b[38;5;241m.\u001b[39mstatus \u001b[38;5;129;01min\u001b[39;00m (\u001b[38;5;241m1\u001b[39m, \u001b[38;5;241m2\u001b[39m) \u001b[38;5;28;01melse\u001b[39;00m \u001b[38;5;28;01mFalse\u001b[39;00m\n",
      "File \u001b[1;32m~\\Anaconda3\\lib\\site-packages\\scipy\\optimize\\_trustregion_constr\\tr_interior_point.py:321\u001b[0m, in \u001b[0;36mtr_interior_point\u001b[1;34m(fun, grad, lagr_hess, n_vars, n_ineq, n_eq, constr, jac, x0, fun0, grad0, constr_ineq0, jac_ineq0, constr_eq0, jac_eq0, stop_criteria, enforce_feasibility, xtol, state, initial_barrier_parameter, initial_tolerance, initial_penalty, initial_trust_radius, factorization_method)\u001b[0m\n\u001b[0;32m    318\u001b[0m \u001b[38;5;66;03m# Solves a sequence of barrier problems\u001b[39;00m\n\u001b[0;32m    319\u001b[0m \u001b[38;5;28;01mwhile\u001b[39;00m \u001b[38;5;28;01mTrue\u001b[39;00m:\n\u001b[0;32m    320\u001b[0m     \u001b[38;5;66;03m# Solve SQP subproblem\u001b[39;00m\n\u001b[1;32m--> 321\u001b[0m     z, state \u001b[38;5;241m=\u001b[39m \u001b[43mequality_constrained_sqp\u001b[49m\u001b[43m(\u001b[49m\n\u001b[0;32m    322\u001b[0m \u001b[43m        \u001b[49m\u001b[43msubprob\u001b[49m\u001b[38;5;241;43m.\u001b[39;49m\u001b[43mfunction_and_constraints\u001b[49m\u001b[43m,\u001b[49m\n\u001b[0;32m    323\u001b[0m \u001b[43m        \u001b[49m\u001b[43msubprob\u001b[49m\u001b[38;5;241;43m.\u001b[39;49m\u001b[43mgradient_and_jacobian\u001b[49m\u001b[43m,\u001b[49m\n\u001b[0;32m    324\u001b[0m \u001b[43m        \u001b[49m\u001b[43msubprob\u001b[49m\u001b[38;5;241;43m.\u001b[39;49m\u001b[43mlagrangian_hessian\u001b[49m\u001b[43m,\u001b[49m\n\u001b[0;32m    325\u001b[0m \u001b[43m        \u001b[49m\u001b[43mz\u001b[49m\u001b[43m,\u001b[49m\u001b[43m \u001b[49m\u001b[43mfun0_subprob\u001b[49m\u001b[43m,\u001b[49m\u001b[43m \u001b[49m\u001b[43mgrad0_subprob\u001b[49m\u001b[43m,\u001b[49m\n\u001b[0;32m    326\u001b[0m \u001b[43m        \u001b[49m\u001b[43mconstr0_subprob\u001b[49m\u001b[43m,\u001b[49m\u001b[43m \u001b[49m\u001b[43mjac0_subprob\u001b[49m\u001b[43m,\u001b[49m\u001b[43m \u001b[49m\u001b[43msubprob\u001b[49m\u001b[38;5;241;43m.\u001b[39;49m\u001b[43mstop_criteria\u001b[49m\u001b[43m,\u001b[49m\n\u001b[0;32m    327\u001b[0m \u001b[43m        \u001b[49m\u001b[43mstate\u001b[49m\u001b[43m,\u001b[49m\u001b[43m \u001b[49m\u001b[43minitial_penalty\u001b[49m\u001b[43m,\u001b[49m\u001b[43m \u001b[49m\u001b[43mtrust_radius\u001b[49m\u001b[43m,\u001b[49m\n\u001b[0;32m    328\u001b[0m \u001b[43m        \u001b[49m\u001b[43mfactorization_method\u001b[49m\u001b[43m,\u001b[49m\u001b[43m \u001b[49m\u001b[43mtrust_lb\u001b[49m\u001b[43m,\u001b[49m\u001b[43m \u001b[49m\u001b[43mtrust_ub\u001b[49m\u001b[43m,\u001b[49m\u001b[43m \u001b[49m\u001b[43msubprob\u001b[49m\u001b[38;5;241;43m.\u001b[39;49m\u001b[43mscaling\u001b[49m\u001b[43m)\u001b[49m\n\u001b[0;32m    329\u001b[0m     \u001b[38;5;28;01mif\u001b[39;00m subprob\u001b[38;5;241m.\u001b[39mterminate:\n\u001b[0;32m    330\u001b[0m         \u001b[38;5;28;01mbreak\u001b[39;00m\n",
      "File \u001b[1;32m~\\Anaconda3\\lib\\site-packages\\scipy\\optimize\\_trustregion_constr\\equality_constrained_sqp.py:118\u001b[0m, in \u001b[0;36mequality_constrained_sqp\u001b[1;34m(fun_and_constr, grad_and_jac, lagr_hess, x0, fun0, grad0, constr0, jac0, stop_criteria, state, initial_penalty, initial_trust_radius, factorization_method, trust_lb, trust_ub, scaling)\u001b[0m\n\u001b[0;32m    116\u001b[0m lb_t \u001b[38;5;241m=\u001b[39m trust_lb \u001b[38;5;241m-\u001b[39m dn\n\u001b[0;32m    117\u001b[0m ub_t \u001b[38;5;241m=\u001b[39m trust_ub \u001b[38;5;241m-\u001b[39m dn\n\u001b[1;32m--> 118\u001b[0m dt, cg_info \u001b[38;5;241m=\u001b[39m \u001b[43mprojected_cg\u001b[49m\u001b[43m(\u001b[49m\u001b[43mH\u001b[49m\u001b[43m,\u001b[49m\u001b[43m \u001b[49m\u001b[43mc_t\u001b[49m\u001b[43m,\u001b[49m\u001b[43m \u001b[49m\u001b[43mZ\u001b[49m\u001b[43m,\u001b[49m\u001b[43m \u001b[49m\u001b[43mY\u001b[49m\u001b[43m,\u001b[49m\u001b[43m \u001b[49m\u001b[43mb_t\u001b[49m\u001b[43m,\u001b[49m\n\u001b[0;32m    119\u001b[0m \u001b[43m                           \u001b[49m\u001b[43mtrust_radius_t\u001b[49m\u001b[43m,\u001b[49m\n\u001b[0;32m    120\u001b[0m \u001b[43m                           \u001b[49m\u001b[43mlb_t\u001b[49m\u001b[43m,\u001b[49m\u001b[43m \u001b[49m\u001b[43mub_t\u001b[49m\u001b[43m)\u001b[49m\n\u001b[0;32m    122\u001b[0m \u001b[38;5;66;03m# Compute update (normal + tangential steps).\u001b[39;00m\n\u001b[0;32m    123\u001b[0m d \u001b[38;5;241m=\u001b[39m dn \u001b[38;5;241m+\u001b[39m dt\n",
      "File \u001b[1;32m~\\Anaconda3\\lib\\site-packages\\scipy\\optimize\\_trustregion_constr\\qp_subproblem.py:498\u001b[0m, in \u001b[0;36mprojected_cg\u001b[1;34m(H, c, Z, Y, b, trust_radius, lb, ub, tol, max_iter, max_infeasible_iter, return_all)\u001b[0m\n\u001b[0;32m    496\u001b[0m \u001b[38;5;66;03m# Initial Values\u001b[39;00m\n\u001b[0;32m    497\u001b[0m x \u001b[38;5;241m=\u001b[39m Y\u001b[38;5;241m.\u001b[39mdot(\u001b[38;5;241m-\u001b[39mb)\n\u001b[1;32m--> 498\u001b[0m r \u001b[38;5;241m=\u001b[39m \u001b[43mZ\u001b[49m\u001b[38;5;241;43m.\u001b[39;49m\u001b[43mdot\u001b[49m\u001b[43m(\u001b[49m\u001b[43mH\u001b[49m\u001b[38;5;241;43m.\u001b[39;49m\u001b[43mdot\u001b[49m\u001b[43m(\u001b[49m\u001b[43mx\u001b[49m\u001b[43m)\u001b[49m\u001b[43m \u001b[49m\u001b[38;5;241;43m+\u001b[39;49m\u001b[43m \u001b[49m\u001b[43mc\u001b[49m\u001b[43m)\u001b[49m\n\u001b[0;32m    499\u001b[0m g \u001b[38;5;241m=\u001b[39m Z\u001b[38;5;241m.\u001b[39mdot(r)\n\u001b[0;32m    500\u001b[0m p \u001b[38;5;241m=\u001b[39m \u001b[38;5;241m-\u001b[39mg\n",
      "File \u001b[1;32m~\\Anaconda3\\lib\\site-packages\\scipy\\sparse\\linalg\\interface.py:418\u001b[0m, in \u001b[0;36mLinearOperator.dot\u001b[1;34m(self, x)\u001b[0m\n\u001b[0;32m    415\u001b[0m x \u001b[38;5;241m=\u001b[39m np\u001b[38;5;241m.\u001b[39masarray(x)\n\u001b[0;32m    417\u001b[0m \u001b[38;5;28;01mif\u001b[39;00m x\u001b[38;5;241m.\u001b[39mndim \u001b[38;5;241m==\u001b[39m \u001b[38;5;241m1\u001b[39m \u001b[38;5;129;01mor\u001b[39;00m x\u001b[38;5;241m.\u001b[39mndim \u001b[38;5;241m==\u001b[39m \u001b[38;5;241m2\u001b[39m \u001b[38;5;129;01mand\u001b[39;00m x\u001b[38;5;241m.\u001b[39mshape[\u001b[38;5;241m1\u001b[39m] \u001b[38;5;241m==\u001b[39m \u001b[38;5;241m1\u001b[39m:\n\u001b[1;32m--> 418\u001b[0m     \u001b[38;5;28;01mreturn\u001b[39;00m \u001b[38;5;28;43mself\u001b[39;49m\u001b[38;5;241;43m.\u001b[39;49m\u001b[43mmatvec\u001b[49m\u001b[43m(\u001b[49m\u001b[43mx\u001b[49m\u001b[43m)\u001b[49m\n\u001b[0;32m    419\u001b[0m \u001b[38;5;28;01melif\u001b[39;00m x\u001b[38;5;241m.\u001b[39mndim \u001b[38;5;241m==\u001b[39m \u001b[38;5;241m2\u001b[39m:\n\u001b[0;32m    420\u001b[0m     \u001b[38;5;28;01mreturn\u001b[39;00m \u001b[38;5;28mself\u001b[39m\u001b[38;5;241m.\u001b[39mmatmat(x)\n",
      "File \u001b[1;32m~\\Anaconda3\\lib\\site-packages\\scipy\\sparse\\linalg\\interface.py:232\u001b[0m, in \u001b[0;36mLinearOperator.matvec\u001b[1;34m(self, x)\u001b[0m\n\u001b[0;32m    229\u001b[0m \u001b[38;5;28;01mif\u001b[39;00m x\u001b[38;5;241m.\u001b[39mshape \u001b[38;5;241m!=\u001b[39m (N,) \u001b[38;5;129;01mand\u001b[39;00m x\u001b[38;5;241m.\u001b[39mshape \u001b[38;5;241m!=\u001b[39m (N,\u001b[38;5;241m1\u001b[39m):\n\u001b[0;32m    230\u001b[0m     \u001b[38;5;28;01mraise\u001b[39;00m \u001b[38;5;167;01mValueError\u001b[39;00m(\u001b[38;5;124m'\u001b[39m\u001b[38;5;124mdimension mismatch\u001b[39m\u001b[38;5;124m'\u001b[39m)\n\u001b[1;32m--> 232\u001b[0m y \u001b[38;5;241m=\u001b[39m \u001b[38;5;28;43mself\u001b[39;49m\u001b[38;5;241;43m.\u001b[39;49m\u001b[43m_matvec\u001b[49m\u001b[43m(\u001b[49m\u001b[43mx\u001b[49m\u001b[43m)\u001b[49m\n\u001b[0;32m    234\u001b[0m \u001b[38;5;28;01mif\u001b[39;00m \u001b[38;5;28misinstance\u001b[39m(x, np\u001b[38;5;241m.\u001b[39mmatrix):\n\u001b[0;32m    235\u001b[0m     y \u001b[38;5;241m=\u001b[39m asmatrix(y)\n",
      "File \u001b[1;32m~\\Anaconda3\\lib\\site-packages\\scipy\\sparse\\linalg\\interface.py:530\u001b[0m, in \u001b[0;36m_CustomLinearOperator._matvec\u001b[1;34m(self, x)\u001b[0m\n\u001b[0;32m    529\u001b[0m \u001b[38;5;28;01mdef\u001b[39;00m \u001b[38;5;21m_matvec\u001b[39m(\u001b[38;5;28mself\u001b[39m, x):\n\u001b[1;32m--> 530\u001b[0m     \u001b[38;5;28;01mreturn\u001b[39;00m \u001b[38;5;28;43mself\u001b[39;49m\u001b[38;5;241;43m.\u001b[39;49m\u001b[43m__matvec_impl\u001b[49m\u001b[43m(\u001b[49m\u001b[43mx\u001b[49m\u001b[43m)\u001b[49m\n",
      "File \u001b[1;32m~\\Anaconda3\\lib\\site-packages\\scipy\\optimize\\_trustregion_constr\\projections.py:192\u001b[0m, in \u001b[0;36mqr_factorization_projections.<locals>.null_space\u001b[1;34m(x)\u001b[0m\n\u001b[0;32m    189\u001b[0m \u001b[38;5;28;01mdef\u001b[39;00m \u001b[38;5;21mnull_space\u001b[39m(x):\n\u001b[0;32m    190\u001b[0m     \u001b[38;5;66;03m# v = P inv(R) Q.T x\u001b[39;00m\n\u001b[0;32m    191\u001b[0m     aux1 \u001b[38;5;241m=\u001b[39m Q\u001b[38;5;241m.\u001b[39mT\u001b[38;5;241m.\u001b[39mdot(x)\n\u001b[1;32m--> 192\u001b[0m     aux2 \u001b[38;5;241m=\u001b[39m \u001b[43mscipy\u001b[49m\u001b[38;5;241;43m.\u001b[39;49m\u001b[43mlinalg\u001b[49m\u001b[38;5;241;43m.\u001b[39;49m\u001b[43msolve_triangular\u001b[49m\u001b[43m(\u001b[49m\u001b[43mR\u001b[49m\u001b[43m,\u001b[49m\u001b[43m \u001b[49m\u001b[43maux1\u001b[49m\u001b[43m,\u001b[49m\u001b[43m \u001b[49m\u001b[43mlower\u001b[49m\u001b[38;5;241;43m=\u001b[39;49m\u001b[38;5;28;43;01mFalse\u001b[39;49;00m\u001b[43m)\u001b[49m\n\u001b[0;32m    193\u001b[0m     v \u001b[38;5;241m=\u001b[39m np\u001b[38;5;241m.\u001b[39mzeros(m)\n\u001b[0;32m    194\u001b[0m     v[P] \u001b[38;5;241m=\u001b[39m aux2\n",
      "File \u001b[1;32m~\\Anaconda3\\lib\\site-packages\\scipy\\linalg\\basic.py:339\u001b[0m, in \u001b[0;36msolve_triangular\u001b[1;34m(a, b, trans, lower, unit_diagonal, overwrite_b, debug, check_finite)\u001b[0m\n\u001b[0;32m    334\u001b[0m     warn(\u001b[38;5;124m'\u001b[39m\u001b[38;5;124mUse of the \u001b[39m\u001b[38;5;124m\"\u001b[39m\u001b[38;5;124mdebug\u001b[39m\u001b[38;5;124m\"\u001b[39m\u001b[38;5;124m keyword is deprecated \u001b[39m\u001b[38;5;124m'\u001b[39m\n\u001b[0;32m    335\u001b[0m          \u001b[38;5;124m'\u001b[39m\u001b[38;5;124mand this keyword will be removed in the future \u001b[39m\u001b[38;5;124m'\u001b[39m\n\u001b[0;32m    336\u001b[0m          \u001b[38;5;124m'\u001b[39m\u001b[38;5;124mversions of SciPy.\u001b[39m\u001b[38;5;124m'\u001b[39m, \u001b[38;5;167;01mDeprecationWarning\u001b[39;00m, stacklevel\u001b[38;5;241m=\u001b[39m\u001b[38;5;241m2\u001b[39m)\n\u001b[0;32m    338\u001b[0m a1 \u001b[38;5;241m=\u001b[39m _asarray_validated(a, check_finite\u001b[38;5;241m=\u001b[39mcheck_finite)\n\u001b[1;32m--> 339\u001b[0m b1 \u001b[38;5;241m=\u001b[39m \u001b[43m_asarray_validated\u001b[49m\u001b[43m(\u001b[49m\u001b[43mb\u001b[49m\u001b[43m,\u001b[49m\u001b[43m \u001b[49m\u001b[43mcheck_finite\u001b[49m\u001b[38;5;241;43m=\u001b[39;49m\u001b[43mcheck_finite\u001b[49m\u001b[43m)\u001b[49m\n\u001b[0;32m    340\u001b[0m \u001b[38;5;28;01mif\u001b[39;00m \u001b[38;5;28mlen\u001b[39m(a1\u001b[38;5;241m.\u001b[39mshape) \u001b[38;5;241m!=\u001b[39m \u001b[38;5;241m2\u001b[39m \u001b[38;5;129;01mor\u001b[39;00m a1\u001b[38;5;241m.\u001b[39mshape[\u001b[38;5;241m0\u001b[39m] \u001b[38;5;241m!=\u001b[39m a1\u001b[38;5;241m.\u001b[39mshape[\u001b[38;5;241m1\u001b[39m]:\n\u001b[0;32m    341\u001b[0m     \u001b[38;5;28;01mraise\u001b[39;00m \u001b[38;5;167;01mValueError\u001b[39;00m(\u001b[38;5;124m'\u001b[39m\u001b[38;5;124mexpected square matrix\u001b[39m\u001b[38;5;124m'\u001b[39m)\n",
      "File \u001b[1;32m~\\Anaconda3\\lib\\site-packages\\scipy\\_lib\\_util.py:293\u001b[0m, in \u001b[0;36m_asarray_validated\u001b[1;34m(a, check_finite, sparse_ok, objects_ok, mask_ok, as_inexact)\u001b[0m\n\u001b[0;32m    291\u001b[0m         \u001b[38;5;28;01mraise\u001b[39;00m \u001b[38;5;167;01mValueError\u001b[39;00m(\u001b[38;5;124m'\u001b[39m\u001b[38;5;124mmasked arrays are not supported\u001b[39m\u001b[38;5;124m'\u001b[39m)\n\u001b[0;32m    292\u001b[0m toarray \u001b[38;5;241m=\u001b[39m np\u001b[38;5;241m.\u001b[39masarray_chkfinite \u001b[38;5;28;01mif\u001b[39;00m check_finite \u001b[38;5;28;01melse\u001b[39;00m np\u001b[38;5;241m.\u001b[39masarray\n\u001b[1;32m--> 293\u001b[0m a \u001b[38;5;241m=\u001b[39m \u001b[43mtoarray\u001b[49m\u001b[43m(\u001b[49m\u001b[43ma\u001b[49m\u001b[43m)\u001b[49m\n\u001b[0;32m    294\u001b[0m \u001b[38;5;28;01mif\u001b[39;00m \u001b[38;5;129;01mnot\u001b[39;00m objects_ok:\n\u001b[0;32m    295\u001b[0m     \u001b[38;5;28;01mif\u001b[39;00m a\u001b[38;5;241m.\u001b[39mdtype \u001b[38;5;129;01mis\u001b[39;00m np\u001b[38;5;241m.\u001b[39mdtype(\u001b[38;5;124m'\u001b[39m\u001b[38;5;124mO\u001b[39m\u001b[38;5;124m'\u001b[39m):\n",
      "File \u001b[1;32m~\\Anaconda3\\lib\\site-packages\\numpy\\lib\\function_base.py:603\u001b[0m, in \u001b[0;36masarray_chkfinite\u001b[1;34m(a, dtype, order)\u001b[0m\n\u001b[0;32m    601\u001b[0m a \u001b[38;5;241m=\u001b[39m asarray(a, dtype\u001b[38;5;241m=\u001b[39mdtype, order\u001b[38;5;241m=\u001b[39morder)\n\u001b[0;32m    602\u001b[0m \u001b[38;5;28;01mif\u001b[39;00m a\u001b[38;5;241m.\u001b[39mdtype\u001b[38;5;241m.\u001b[39mchar \u001b[38;5;129;01min\u001b[39;00m typecodes[\u001b[38;5;124m'\u001b[39m\u001b[38;5;124mAllFloat\u001b[39m\u001b[38;5;124m'\u001b[39m] \u001b[38;5;129;01mand\u001b[39;00m \u001b[38;5;129;01mnot\u001b[39;00m np\u001b[38;5;241m.\u001b[39misfinite(a)\u001b[38;5;241m.\u001b[39mall():\n\u001b[1;32m--> 603\u001b[0m     \u001b[38;5;28;01mraise\u001b[39;00m \u001b[38;5;167;01mValueError\u001b[39;00m(\n\u001b[0;32m    604\u001b[0m         \u001b[38;5;124m\"\u001b[39m\u001b[38;5;124marray must not contain infs or NaNs\u001b[39m\u001b[38;5;124m\"\u001b[39m)\n\u001b[0;32m    605\u001b[0m \u001b[38;5;28;01mreturn\u001b[39;00m a\n",
      "\u001b[1;31mValueError\u001b[0m: array must not contain infs or NaNs"
     ]
    }
   ],
   "source": [
    "def objective_function(x, a, b, c, d, p, n_bits):\n",
    "    # Calculate the value of each function f_i(x)\n",
    "    fi_values = [n_bits / np.log2(1 + ai * xi / (bi * xi + np.sum(cij * pj for j, pj in enumerate(p)) + di)) for ai, bi, cij, di, xi in zip(a, b, c, d, x)]\n",
    "    # Return the maximum of the fi_values\n",
    "    return -np.max(fi_values)  # We negate because scipy's minimize finds the minimum\n",
    "\n",
    "def constraint_function(x):\n",
    "    # Box constraints: 0 <= x_i <= 1\n",
    "    return np.clip(x, 0, 1) - x\n",
    "\n",
    "# Example values for a, b, c, d\n",
    "a = np.array([4, 4, 3])  # Example coefficients for a_i\n",
    "b = np.array([1, 2, 1])  # Example coefficients for b_i\n",
    "c = np.array([[0.1, 0.08, 0.03], [0.02, 0.3, 0.04], [0.13, 0.4, 0.85]])  # Example coefficients for c_ij\n",
    "d = np.array([0.2, 0.07, 0.1])  # Example coefficients for d_i\n",
    "\n",
    "n_bits = np.array([1, 1, 1])  # bits \n",
    "\n",
    "\n",
    "# Initial guess for x\n",
    "x0 = np.random.rand(len(a))\n",
    "\n",
    "# Bounds for x: 0 <= x_i <= 1\n",
    "bounds = [(0, 1)] * len(a)\n",
    "\n",
    "# Define the optimization problem\n",
    "problem = {\n",
    "    'fun': objective_function,\n",
    "    'x0': x0,\n",
    "    'args': (a, b, c, d, np.zeros_like(a), n_bits),  # Assuming p is initially zeros\n",
    "    'constraints': {'type': 'ineq', 'fun': constraint_function},\n",
    "    'bounds': bounds\n",
    "}\n",
    "\n",
    "# Solve the optimization problem\n",
    "result = minimize(**problem, method='trust-constr')\n",
    "\n",
    "# Extract the optimal solution\n",
    "optimal_solution = result.x\n",
    "\n",
    "print(\"Optimal solution:\", optimal_solution)\n",
    "\n",
    "K = 3\n",
    "ell = np.zeros([K,1])\n",
    "E = np.zeros([K,1])\n",
    "x = optimal_solution\n",
    "for i in range(K):\n",
    "    b_prim = 0\n",
    "    for j in range(K):\n",
    "        b_prim += c[i, j] * x[j]\n",
    "    \n",
    "    b_prim -= c[i,i]*x[i]    \n",
    "        \n",
    "    ell[i] = n_bits[i] / np.log2(1 + a[i] * x[i] / (b[i] * x[i] + b_prim + d[i]))\n",
    "    \n",
    "    E[i] = x_u*x[i]*ell[i]\n",
    "    \n",
    "    \n",
    "print('latency:', ell) \n",
    "print('----------------')\n",
    "print('energy:', E)"
   ]
  },
  {
   "cell_type": "code",
   "execution_count": 148,
   "id": "4085a11b",
   "metadata": {},
   "outputs": [
    {
     "name": "stdout",
     "output_type": "stream",
     "text": [
      "Optimal solution: [4.56540365e-01 4.92457035e-16 5.31645899e-01]\n"
     ]
    }
   ],
   "source": [
    "print(\"Optimal solution:\", optimal_solution)\n"
   ]
  },
  {
   "cell_type": "markdown",
   "id": "7b862603",
   "metadata": {},
   "source": [
    "# The following code is with min (sum energy + max latency)"
   ]
  },
  {
   "cell_type": "code",
   "execution_count": 59,
   "id": "ad9fc63c",
   "metadata": {
    "scrolled": false
   },
   "outputs": [
    {
     "name": "stderr",
     "output_type": "stream",
     "text": [
      "C:\\Users\\afmb\\AppData\\Local\\Temp\\ipykernel_9324\\3950755041.py:6: DeprecationWarning: Calling np.sum(generator) is deprecated, and in the future will give a different result. Use np.sum(np.fromiter(generator)) or the python sum builtin instead.\n",
      "  sum_term = sum(n_bits[k]*x[k]*x_u / np.log2(1 + a[k] * x[k] / (b[k] * x[k] + np.sum(c[k, j] * x[j] for j in range(len(x))) - c[k, k] * x[k] + d[k])) for k in range(len(x)))\n",
      "C:\\Users\\afmb\\AppData\\Local\\Temp\\ipykernel_9324\\3950755041.py:8: DeprecationWarning: Calling np.sum(generator) is deprecated, and in the future will give a different result. Use np.sum(np.fromiter(generator)) or the python sum builtin instead.\n",
      "  max_term = max(n_bits[i] / np.log2(1 + a[i] * x[i] / (b[i] * x[i] + np.sum(c[i, j] * x[j] for j in range(len(x)))  - c[i, i] * x[i] + d[i])) for i in range(len(x)))\n"
     ]
    },
    {
     "name": "stdout",
     "output_type": "stream",
     "text": [
      "Optimal solution: [0.54483888 0.08211653 0.18668836]\n",
      "latency: [[7.24124399]\n",
      " [7.24124397]\n",
      " [7.24124396]]\n",
      "max latency: 7.241243986944373\n",
      "----------------\n",
      "energy: [[0.39453112]\n",
      " [0.05946258]\n",
      " [0.13518559]]\n",
      "sum energy: 0.5891793006639037\n"
     ]
    }
   ],
   "source": [
    "import numpy as np\n",
    "from scipy.optimize import minimize\n",
    "\n",
    "def objective_function(x, a, b, c, d, p, n_bits, x_u):\n",
    "    # Compute the sum of functions for each x_k\n",
    "    sum_term = sum(n_bits[k]*x[k]*x_u / np.log2(1 + a[k] * x[k] / (b[k] * x[k] + np.sum(c[k, j] * x[j] for j in range(len(x))) - c[k, k] * x[k] + d[k])) for k in range(len(x)))\n",
    "    # Compute the maximum of the second term\n",
    "    max_term = max(n_bits[i] / np.log2(1 + a[i] * x[i] / (b[i] * x[i] + np.sum(c[i, j] * x[j] for j in range(len(x)))  - c[i, i] * x[i] + d[i])) for i in range(len(x)))\n",
    "    return max_term + sum_term \n",
    "\n",
    "def constraint_function(x):\n",
    "    # Box constraints: 0 <= x_i <= 1\n",
    "    return np.clip(x, 0, 1) - x\n",
    "\n",
    "# Example values for a, b, c, d, p, n_bits, x_u\n",
    "x_u = 0.1\n",
    "a = np.array([2, 8, 5])  \n",
    "b = np.array([3, 2, 1])  \n",
    "c = np.array([[0.12, 0.2, 0.13], [0.2, 0.03, 0.04], [0.3, 0.4, 0.5]])  \n",
    "d = np.array([0.1, 0.2, 0.3])  \n",
    "p = np.zeros_like(a)  # Example values for p\n",
    "n_bits = np.array([5, 9, 9])  # Example values for B\n",
    "\n",
    "# Initial guess for x\n",
    "x0 = np.random.rand(len(a))\n",
    "\n",
    "# Bounds for x: 0 <= x_i <= 1\n",
    "bounds = [(0, 1)] * len(a)\n",
    "\n",
    "# Define the optimization problem\n",
    "problem = {\n",
    "    'fun': objective_function,\n",
    "    'x0': x0,\n",
    "    'args': (a, b, c, d, p, n_bits, x_u),\n",
    "    'constraints': {'type': 'ineq', 'fun': constraint_function},\n",
    "    'bounds': bounds\n",
    "}\n",
    "\n",
    "# Solve the optimization problem: # Good methods: 1) trust-constr, 2) SLSQP, 3) Powell\n",
    "result = minimize(**problem, method='trust-constr', options={'maxiter': 10000}) \n",
    "\n",
    "# Extract the optimal solution\n",
    "optimal_solution = result.x\n",
    "\n",
    "print(\"Optimal solution:\", optimal_solution)\n",
    "K = 3\n",
    "ell = np.zeros([K,1])\n",
    "E = np.zeros([K,1])\n",
    "x = optimal_solution\n",
    "for i in range(K):\n",
    "    b_prim = 0\n",
    "    for j in range(K):\n",
    "        b_prim += c[i, j] * x[j]\n",
    "    \n",
    "    b_prim -= c[i,i]*x[i]    \n",
    "        \n",
    "    ell[i] = n_bits[i] / np.log2(1 + a[i] * x[i] / (b[i] * x[i] + b_prim + d[i]))\n",
    "    \n",
    "    E[i] = x_u*x[i]*ell[i]\n",
    "    \n",
    "    \n",
    "print('latency:', ell) \n",
    "print('max latency:', np.max(ell))\n",
    "print('----------------')\n",
    "print('energy:', E)\n",
    "\n",
    "print('sum energy:', np.sum(E))"
   ]
  },
  {
   "cell_type": "code",
   "execution_count": 60,
   "id": "a9419495",
   "metadata": {},
   "outputs": [],
   "source": [
    "#print(\"Optimal solution:\", optimal_solution)\n",
    "\n",
    "#print('latency:', ell)\n",
    "#print('max latency:', np.max(ell))\n",
    "#print('----------------')\n",
    "#print('energy:', E)\n",
    "\n",
    "#print('sum energy:', np.sum(E))"
   ]
  },
  {
   "cell_type": "markdown",
   "id": "fee96d43",
   "metadata": {},
   "source": [
    "# In the following, I removed log2 and repeat the optimization"
   ]
  },
  {
   "cell_type": "code",
   "execution_count": 61,
   "id": "620a6732",
   "metadata": {},
   "outputs": [
    {
     "name": "stderr",
     "output_type": "stream",
     "text": [
      "C:\\Users\\afmb\\AppData\\Local\\Temp\\ipykernel_9324\\4150679023.py:6: DeprecationWarning: Calling np.sum(generator) is deprecated, and in the future will give a different result. Use np.sum(np.fromiter(generator)) or the python sum builtin instead.\n",
      "  sum_term = sum(n_bits[k]*x[k]*x_u / np.log2(1 + a[k] * x[k] / (b[k] * x[k] + np.sum(c[k, j] * x[j] for j in range(len(x))) - c[k, k] * x[k] + d[k])) for k in range(len(x)))\n",
      "C:\\Users\\afmb\\AppData\\Local\\Temp\\ipykernel_9324\\4150679023.py:8: DeprecationWarning: Calling np.sum(generator) is deprecated, and in the future will give a different result. Use np.sum(np.fromiter(generator)) or the python sum builtin instead.\n",
      "  max_term = max(n_bits[i] /( a[i] * x[i] / (b[i] * x[i] + np.sum(c[i, j] * x[j] for j in range(len(x))) - c[i, i] * x[i] + d[i])) for i in range(len(x)))\n"
     ]
    },
    {
     "name": "stdout",
     "output_type": "stream",
     "text": [
      "Optimal solution: [0.6931811  0.06767987 0.15576969]\n",
      "latency: [[7.1260077 ]\n",
      " [8.26343399]\n",
      " [8.26343397]]\n",
      "max latency: 8.263433987635313\n",
      "----------------\n",
      "energy: [[0.49396138]\n",
      " [0.05592682]\n",
      " [0.12871926]]\n",
      "sum energy: 0.6786074589310795\n"
     ]
    }
   ],
   "source": [
    "import numpy as np\n",
    "from scipy.optimize import minimize\n",
    "\n",
    "def objective_function(x, a, b, c, d, p, n_bits, x_u):\n",
    "    # Compute the sum of functions for each x_k\n",
    "    sum_term = sum(n_bits[k]*x[k]*x_u / np.log2(1 + a[k] * x[k] / (b[k] * x[k] + np.sum(c[k, j] * x[j] for j in range(len(x))) - c[k, k] * x[k] + d[k])) for k in range(len(x)))\n",
    "    # Compute the maximum of the second term\n",
    "    max_term = max(n_bits[i] /( a[i] * x[i] / (b[i] * x[i] + np.sum(c[i, j] * x[j] for j in range(len(x))) - c[i, i] * x[i] + d[i])) for i in range(len(x)))\n",
    "    return max_term + sum_term \n",
    "\n",
    "def constraint_function(x):\n",
    "    # Box constraints: 0 <= x_i <= 1\n",
    "    return np.clip(x, 0, 1) - x\n",
    "\n",
    "# Example values for a, b, c, d, p, n_bits, x_u\n",
    "x_u = 0.1\n",
    "a = np.array([2, 8, 5])  \n",
    "b = np.array([3, 2, 1])  \n",
    "c = np.array([[0.12, 0.2, 0.13], [0.2, 0.03, 0.04], [0.3, 0.4, 0.5]])  \n",
    "d = np.array([0.1, 0.2, 0.3])  \n",
    "p = np.zeros_like(a)  # Example values for p\n",
    "n_bits = np.array([5, 9, 9])  # Example values for B\n",
    "\n",
    "# Initial guess for x\n",
    "x0 = np.random.rand(len(a))\n",
    "\n",
    "# Bounds for x: 0 <= x_i <= 1\n",
    "bounds = [(0, 1)] * len(a)\n",
    "\n",
    "# Define the optimization problem\n",
    "problem = {\n",
    "    'fun': objective_function,\n",
    "    'x0': x0,\n",
    "    'args': (a, b, c, d, p, n_bits, x_u),\n",
    "    'constraints': {'type': 'ineq', 'fun': constraint_function},\n",
    "    'bounds': bounds\n",
    "}\n",
    "\n",
    "# Solve the optimization problem: # Good methods: 1) trust-constr, 2) SLSQP, 3) Powell\n",
    "result = minimize(**problem, method='trust-constr', options={'maxiter': 10000}) \n",
    "\n",
    "# Extract the optimal solution\n",
    "optimal_solution = result.x\n",
    "\n",
    "print(\"Optimal solution:\", optimal_solution)\n",
    "K = 3\n",
    "ell = np.zeros([K,1])\n",
    "E = np.zeros([K,1])\n",
    "x = optimal_solution\n",
    "for i in range(K):\n",
    "    b_prim = 0\n",
    "    for j in range(K):\n",
    "        b_prim += c[i, j] * x[j]\n",
    "    \n",
    "    b_prim -= c[i,i]*x[i]    \n",
    "        \n",
    "    ell[i] = n_bits[i] / np.log2(1 + a[i] * x[i] / (b[i] * x[i] + b_prim + d[i]))\n",
    "    \n",
    "    E[i] = x_u*x[i]*ell[i]\n",
    "    \n",
    "    \n",
    "print('latency:', ell) \n",
    "print('max latency:', np.max(ell))\n",
    "print('----------------')\n",
    "print('energy:', E)\n",
    "\n",
    "print('sum energy:', np.sum(E))"
   ]
  },
  {
   "cell_type": "code",
   "execution_count": null,
   "id": "693bf9bd",
   "metadata": {},
   "outputs": [],
   "source": []
  },
  {
   "cell_type": "markdown",
   "id": "bee9173f",
   "metadata": {},
   "source": [
    "# The following is the wcnc approach"
   ]
  },
  {
   "cell_type": "code",
   "execution_count": 73,
   "id": "7545243a",
   "metadata": {},
   "outputs": [
    {
     "name": "stdout",
     "output_type": "stream",
     "text": [
      "Optimal solution: [0.42448208 0.33260697 0.76016006]\n",
      "latency: [[7.88819628]\n",
      " [4.75468935]\n",
      " [4.60266859]]\n",
      "max latency: 7.888196279759467\n",
      "----------------\n",
      "energy: [[0.3348398 ]\n",
      " [0.15814428]\n",
      " [0.34987648]]\n",
      "sum energy: 0.8428605596584361\n"
     ]
    },
    {
     "name": "stderr",
     "output_type": "stream",
     "text": [
      "C:\\Users\\afmb\\AppData\\Local\\Temp\\ipykernel_9324\\2394127775.py:6: DeprecationWarning: Calling np.sum(generator) is deprecated, and in the future will give a different result. Use np.sum(np.fromiter(generator)) or the python sum builtin instead.\n",
      "  sum_term = 1*sum(n_bits[k]*x[k]*x_u / np.log2(1 + a[k] * x[k] / (b[k] * x[k] + np.sum(c[k, j] * x[j] for j in range(len(x))) - c[k, k] * x[k] + d[k])) for k in range(len(x)))\n",
      "C:\\Users\\afmb\\AppData\\Local\\Temp\\ipykernel_9324\\2394127775.py:8: DeprecationWarning: Calling np.sum(generator) is deprecated, and in the future will give a different result. Use np.sum(np.fromiter(generator)) or the python sum builtin instead.\n",
      "  max_term = 0.5*np.sum(n_bits[i] /np.log2(1+ a[i] * x[i] / (b[i] * x[i] + np.sum(c[i, j] * x[j] for j in range(len(x))) - c[i, i] * x[i] + d[i])) for i in range(len(x)))\n"
     ]
    }
   ],
   "source": [
    "import numpy as np\n",
    "from scipy.optimize import minimize\n",
    "\n",
    "def objective_function(x, a, b, c, d, p, n_bits, x_u):\n",
    "    # Compute the sum of functions for each x_k\n",
    "    sum_term = 1*sum(n_bits[k]*x[k]*x_u / np.log2(1 + a[k] * x[k] / (b[k] * x[k] + np.sum(c[k, j] * x[j] for j in range(len(x))) - c[k, k] * x[k] + d[k])) for k in range(len(x)))\n",
    "    # Compute the maximum of the second term\n",
    "    max_term = 0.5*np.sum(n_bits[i] /np.log2(1+ a[i] * x[i] / (b[i] * x[i] + np.sum(c[i, j] * x[j] for j in range(len(x))) - c[i, i] * x[i] + d[i])) for i in range(len(x)))\n",
    "    return max_term + sum_term \n",
    "\n",
    "def constraint_function(x):\n",
    "    # Box constraints: 0 <= x_i <= 1\n",
    "    return np.clip(x, 0, 1) - x\n",
    "\n",
    "# Example values for a, b, c, d, p, n_bits, x_u\n",
    "x_u = 0.1\n",
    "a = np.array([2, 8, 5])  \n",
    "b = np.array([3, 2, 1])  \n",
    "c = np.array([[0.12, 0.2, 0.13], [0.2, 0.03, 0.04], [0.3, 0.4, 0.5]])  \n",
    "d = np.array([0.1, 0.2, 0.3])  \n",
    "p = np.zeros_like(a)  # Example values for p\n",
    "n_bits = np.array([5, 9, 9])  # Example values for B\n",
    "\n",
    "# Initial guess for x\n",
    "x0 = np.random.rand(len(a))\n",
    "\n",
    "# Bounds for x: 0 <= x_i <= 1\n",
    "bounds = [(0, 1)] * len(a)\n",
    "\n",
    "# Define the optimization problem\n",
    "problem = {\n",
    "    'fun': objective_function,\n",
    "    'x0': x0,\n",
    "    'args': (a, b, c, d, p, n_bits, x_u),\n",
    "    'constraints': {'type': 'ineq', 'fun': constraint_function},\n",
    "    'bounds': bounds\n",
    "}\n",
    "\n",
    "# Solve the optimization problem: # Good methods: 1) trust-constr, 2) SLSQP, 3) Powell\n",
    "result = minimize(**problem, method='trust-constr', options={'maxiter': 10000}) \n",
    "\n",
    "# Extract the optimal solution\n",
    "optimal_solution = result.x\n",
    "\n",
    "print(\"Optimal solution:\", optimal_solution)\n",
    "K = 3\n",
    "ell = np.zeros([K,1])\n",
    "E = np.zeros([K,1])\n",
    "x = optimal_solution\n",
    "for i in range(K):\n",
    "    b_prim = 0\n",
    "    for j in range(K):\n",
    "        b_prim += c[i, j] * x[j]\n",
    "    \n",
    "    b_prim -= c[i,i]*x[i]    \n",
    "        \n",
    "    ell[i] = n_bits[i] / np.log2(1 + a[i] * x[i] / (b[i] * x[i] + b_prim + d[i]))\n",
    "    \n",
    "    E[i] = x_u*x[i]*ell[i]\n",
    "    \n",
    "    \n",
    "print('latency:', ell) \n",
    "print('max latency:', np.max(ell))\n",
    "print('----------------')\n",
    "print('energy:', E)\n",
    "\n",
    "print('sum energy:', np.sum(E))"
   ]
  },
  {
   "cell_type": "code",
   "execution_count": null,
   "id": "d3c729f1",
   "metadata": {},
   "outputs": [],
   "source": []
  }
 ],
 "metadata": {
  "kernelspec": {
   "display_name": "Python 3 (ipykernel)",
   "language": "python",
   "name": "python3"
  },
  "language_info": {
   "codemirror_mode": {
    "name": "ipython",
    "version": 3
   },
   "file_extension": ".py",
   "mimetype": "text/x-python",
   "name": "python",
   "nbconvert_exporter": "python",
   "pygments_lexer": "ipython3",
   "version": "3.8.5"
  }
 },
 "nbformat": 4,
 "nbformat_minor": 5
}
