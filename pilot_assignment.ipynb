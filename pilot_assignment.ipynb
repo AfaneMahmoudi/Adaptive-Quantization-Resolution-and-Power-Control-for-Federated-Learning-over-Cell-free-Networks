{
 "cells": [
  {
   "cell_type": "code",
   "execution_count": null,
   "id": "07fc0016",
   "metadata": {},
   "outputs": [],
   "source": [
    "#Afsaneh: checked by me, understood!\n",
    "#----------------------------------------------------------\n",
    "# -*- coding: utf-8 -*-\n",
    "\"\"\"\n",
    "Created on Fri Jun  4 10:55:48 2021\n",
    "\n",
    "@author: Mahmoud Zaher\n",
    "\"\"\"\n",
    "\n",
    "\n",
    "import numpy as np\n",
    "\n",
    "# This function is used to perform the pilot assignment procedure described in the paper\n",
    "# Be careful that tau_p <= K.\n",
    "def assign_pilots(K, tau_p, betas):\n",
    "    assigned = -1 * np.ones(K)\n",
    "    assigned[0:tau_p] = np.random.permutation(tau_p)\n",
    "    for k in range(tau_p, K):\n",
    "        l = np.argmax(betas[k,:])\n",
    "        interference = np.zeros(tau_p)\n",
    "        for tau in range(0, tau_p):\n",
    "            interference[tau] = np.sum(betas[assigned == tau,l])\n",
    "            \n",
    "        assigned[k] = np.argmin(interference)\n",
    "    \n",
    "    return assigned"
   ]
  }
 ],
 "metadata": {
  "kernelspec": {
   "display_name": "Python 3 (ipykernel)",
   "language": "python",
   "name": "python3"
  },
  "language_info": {
   "codemirror_mode": {
    "name": "ipython",
    "version": 3
   },
   "file_extension": ".py",
   "mimetype": "text/x-python",
   "name": "python",
   "nbconvert_exporter": "python",
   "pygments_lexer": "ipython3",
   "version": "3.8.5"
  }
 },
 "nbformat": 4,
 "nbformat_minor": 5
}
