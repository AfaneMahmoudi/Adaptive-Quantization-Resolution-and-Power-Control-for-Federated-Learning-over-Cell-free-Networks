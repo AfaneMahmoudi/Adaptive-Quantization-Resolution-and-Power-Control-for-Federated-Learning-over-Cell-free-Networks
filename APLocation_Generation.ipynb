{
 "cells": [
  {
   "cell_type": "code",
   "execution_count": null,
   "id": "2b518141",
   "metadata": {},
   "outputs": [],
   "source": [
    "#!/usr/bin/env python3\n",
    "# -*- coding: utf-8 -*-\n",
    "\"\"\"\n",
    "Created on Sun Apr  5 22:28:58 2021\n",
    "\n",
    "@author: Mahmoud Zaher\n",
    "\"\"\"\n",
    "\n",
    "\n",
    "import numpy as np\n",
    "import numpy.matlib\n",
    "\n",
    "\n",
    "\n",
    "def RandomAPLocations(L,squareLength):\n",
    "    \n",
    "    #Number of APs per dimension\n",
    "    nbrAPsPerDim = np.round(np.int64(np.sqrt(L)))\n",
    "    \n",
    "    #Distance between APs in vertical/horizontal direction\n",
    "    interAPDistance = np.int(squareLength/nbrAPsPerDim)\n",
    "    \n",
    "    #Deploy APs on the grid\n",
    "    locationsGridHorizontal = np.matlib.repmat(np.linspace(interAPDistance/2,squareLength-interAPDistance/2,nbrAPsPerDim),nbrAPsPerDim, 1)\n",
    "    locationsGridVertical = np.conj(np.transpose(locationsGridHorizontal))\n",
    "    APpositions = locationsGridHorizontal.reshape((L,1),order='F') + 1j*locationsGridVertical.reshape((L,1),order='F')\n",
    "        \n",
    "    #Randomness introduced in AP locations\n",
    "    sensitivity = 0.5 # 0 means no movement, 1 means max distance is interAPDistance\n",
    "    min_distance = interAPDistance * (1 - sensitivity)\n",
    "    assert interAPDistance >= min_distance\n",
    "#    print('Min distance between APs: ', min_distance)\n",
    "    \n",
    "    max_movement = (interAPDistance - min_distance)/2\n",
    "    perturbation = np.random.uniform(\n",
    "    low=-max_movement,\n",
    "    high=max_movement,\n",
    "    size=(len(APpositions), 2))\n",
    "    perturbationXY = perturbation[:,0].reshape((L,1),order='F') + 1j*perturbation[:,1].reshape((L,1),order='F')\n",
    "    APpositions += perturbationXY\n",
    "    \n",
    "    return (APpositions)\n",
    "\n",
    "\n",
    "\n",
    "\n",
    "\n",
    "\n",
    "\n"
   ]
  }
 ],
 "metadata": {
  "kernelspec": {
   "display_name": "Python 3 (ipykernel)",
   "language": "python",
   "name": "python3"
  },
  "language_info": {
   "codemirror_mode": {
    "name": "ipython",
    "version": 3
   },
   "file_extension": ".py",
   "mimetype": "text/x-python",
   "name": "python",
   "nbconvert_exporter": "python",
   "pygments_lexer": "ipython3",
   "version": "3.8.5"
  }
 },
 "nbformat": 4,
 "nbformat_minor": 5
}
