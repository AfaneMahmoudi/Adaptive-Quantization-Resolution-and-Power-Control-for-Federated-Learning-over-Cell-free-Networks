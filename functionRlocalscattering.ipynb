{
 "cells": [
  {
   "cell_type": "code",
   "execution_count": null,
   "id": "1c396852",
   "metadata": {},
   "outputs": [],
   "source": [
    "# -*- coding: utf-8 -*-\n",
    "\"\"\"\n",
    "Created on Tue Jun 18 16:15:20 2019\n",
    "\n",
    "@author: Sucharita Chakraborty\n",
    "\"\"\"\n",
    "\n",
    "import numpy as np \n",
    "import math\n",
    "from scipy.linalg import toeplitz\n",
    "\n",
    "def R(M,theta,ASDdeg):\n",
    "    ASD = ASDdeg*math.pi/180\n",
    "    antennaSpacing = 0.5\n",
    "    #The correlation matrix has a Toeplitz structure, so we only need to\n",
    "    #compute the first row of the matrix\n",
    "    firstRow = np.zeros((M,1), dtype='complex')\n",
    "    \n",
    "    for column in range(0,M):\n",
    "    \n",
    "        #Compute the approximated integral as in (2.24)\n",
    "        firstRow[column] = np.exp(1j*2*math.pi*antennaSpacing*math.sin(theta)*column)*np.exp(-ASD**2/2 * ( 2*math.pi*antennaSpacing*math.cos(theta)*column )**2)\n",
    "    \n",
    "    R = toeplitz(firstRow)\n",
    "    return R"
   ]
  }
 ],
 "metadata": {
  "kernelspec": {
   "display_name": "Python 3 (ipykernel)",
   "language": "python",
   "name": "python3"
  },
  "language_info": {
   "codemirror_mode": {
    "name": "ipython",
    "version": 3
   },
   "file_extension": ".py",
   "mimetype": "text/x-python",
   "name": "python",
   "nbconvert_exporter": "python",
   "pygments_lexer": "ipython3",
   "version": "3.8.5"
  }
 },
 "nbformat": 4,
 "nbformat_minor": 5
}
